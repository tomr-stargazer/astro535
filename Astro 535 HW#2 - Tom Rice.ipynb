{
 "metadata": {
  "name": "",
  "signature": "sha256:101a92bab1e51ebbcfae72e79a03dc466e53ce36a04ab6fab03dd96b2e2f2770"
 },
 "nbformat": 3,
 "nbformat_minor": 0,
 "worksheets": [
  {
   "cells": [
    {
     "cell_type": "markdown",
     "metadata": {},
     "source": [
      "## A535 (ISM) Homework #2\n",
      "\n",
      "Tom Rice\n",
      "\n",
      "9 February 2015\n"
     ]
    },
    {
     "cell_type": "markdown",
     "metadata": {},
     "source": [
      "### 1\\. \n",
      "*An 06V star with $T_{eff}$ = 43,600 K ionizes an H II region. Assume an ionization-bounded nebula of pure hydrogen, with uniform density $n_H = 10cm^{\u22123}$ and temperature T=10,000 K. You can find the necessary data in the slides for Jan. 14 and Jan. 23.*\n"
     ]
    },
    {
     "cell_type": "markdown",
     "metadata": {},
     "source": [
      "#### (a)\n",
      "*What is the (Str\u00f6mgren) radius of the nebula?*"
     ]
    },
    {
     "cell_type": "markdown",
     "metadata": {},
     "source": [
      "A Str\u00f6mgren radius is given by the expression\n",
      "$$ R_s = \\left( \\frac{3 Q}{4 \\pi n_H^2 \\alpha_B} \\right)^{1/3}$$ \n",
      "\n",
      "where \n",
      "\n",
      "* $Q = 10^{49.34}$ photons/sec is the stellar radiation coefficient (given by table from 1/14 slides, attributed to Osterbrock & Ferland),\n",
      "* $n_H = 10$ cm$^{-3}$ as given above\n",
      "* $\\alpha_B = 2.59 \\times 10^{-13}$ cm$^3$ s${-1}$ is the hydrogen recombination coefficient for a 10,000 K gas (also from slides / Osterbrock & Ferland)"
     ]
    },
    {
     "cell_type": "code",
     "collapsed": false,
     "input": [
      "from __future__ import division\n",
      "import numpy as np\n",
      "import astropy.units as u\n",
      "import astropy.constants as c\n",
      "\n",
      "Q = 10**49.34 / u.s\n",
      "n_H = 10 * u.cm**(-3)\n",
      "alpha_B = 2.59e-13 * u.cm**3 / u.s\n",
      "\n",
      "R_s = (3 * Q / (4 * np.pi * n_H**2 * alpha_B))**(1/3)\n",
      "\n",
      "print \"The Stromgren radius is {0:.2f}\".format(R_s.to(u.pc))"
     ],
     "language": "python",
     "metadata": {},
     "outputs": [
      {
       "output_type": "stream",
       "stream": "stdout",
       "text": [
        "The Stromgren radius is 19.00 pc\n"
       ]
      }
     ],
     "prompt_number": 234
    },
    {
     "cell_type": "markdown",
     "metadata": {},
     "source": [
      "#### (b)\n",
      "*Compute the typical recombination timescale in this nebula.*"
     ]
    },
    {
     "cell_type": "markdown",
     "metadata": {},
     "source": [
      "The recombination time is given by\n",
      "$$ t_r = \\frac{1}{n_e \\alpha} $$\n",
      "with \n",
      "\n",
      "* $\\alpha \\approx 2.59 \\times 10^{-13}$ as in (a), and \n",
      "* $n_e$ = 10 cm$^{-3}$ assuming complete H ionization\n",
      "\n"
     ]
    },
    {
     "cell_type": "code",
     "collapsed": false,
     "input": [
      "n_e = n_H\n",
      "t_r = 1/(n_e * alpha_B)\n",
      "\n",
      "print \"The recombination time is {0:.2e}, or {1:.1f}\".format(t_r.to(u.s), t_r.to(u.yr))"
     ],
     "language": "python",
     "metadata": {},
     "outputs": [
      {
       "output_type": "stream",
       "stream": "stdout",
       "text": [
        "The recombination time is 3.86e+11 s, or 12234.8 yr\n"
       ]
      }
     ],
     "prompt_number": 235
    },
    {
     "cell_type": "markdown",
     "metadata": {},
     "source": [
      "#### (c)\n",
      "*<b>Estimate</b> the timescale for a neutral hydrogen atom to become photoionized at a distance of half the Str\u00f6mgren radius of the nebula.*"
     ]
    },
    {
     "cell_type": "markdown",
     "metadata": {},
     "source": [
      "The photo-ionization volumetric rate is given as\n",
      "\n",
      "$$ volumetric rate_{PI} = n_H \\int_{\\nu_0}^{\\infty} \\frac{L_\\nu}{4 \\pi r^2} \\frac{a_\\nu}{h \\nu} d \\nu $$\n",
      "\n",
      "which can be re-written as\n",
      "\n",
      "$$ n_H \\frac{Q}{4 \\pi r^2} a_\\nu $$\n",
      "\n",
      "with $Q = \\int_{\\nu_0}^{\\infty} \\frac{L_\\nu}{h \\nu} d \\nu$.\n",
      "\n",
      "Here, $a_\\nu$ represents the ionization cross-section of neutral hydrogen, given by $6 \\times 10^{-18}$ cm$^{-2}$.\n",
      "\n",
      "The rate per atom factors out the $n_H$ term, leaving\n",
      "\n",
      "$$ rate_{PI} = \\frac{Q}{4 \\pi r^2} a_\\nu$$\n",
      "\n",
      "and the timescale for photoionization is just the inverse of the rate,\n",
      "\n",
      "$$ t_{PI} = \\frac{1}{rate_{PI}} $$"
     ]
    },
    {
     "cell_type": "code",
     "collapsed": false,
     "input": [
      "a_nu = 6e-18 * u.cm**2\n",
      "rate_PI = Q / (4 * np.pi * (R_s/2)**2)* a_nu\n",
      "\n",
      "t_PI = 1/rate_PI\n",
      "\n",
      "print \"The photoionization timescale is {0:.1e}, or {1:.2f}\".format(t_PI.to(u.s), t_PI.to(u.year))"
     ],
     "language": "python",
     "metadata": {},
     "outputs": [
      {
       "output_type": "stream",
       "stream": "stdout",
       "text": [
        "The photoionization timescale is 8.2e+07 s, or 2.61 yr\n"
       ]
      }
     ],
     "prompt_number": 236
    },
    {
     "cell_type": "markdown",
     "metadata": {},
     "source": [
      "#### (d)\n",
      "Use the results of (b) and (c) to estimate the ratio of neutral hydrogen to protons at the half-radius point."
     ]
    },
    {
     "cell_type": "markdown",
     "metadata": {},
     "source": [
      "If the ratio can be expressed as a fraction of the two timescales\n",
      "\n",
      "$$ \\frac{n_{H^0}}{n_p} = \\left( \\frac{t_r}{ t_{PI} } \\right)^{-1} $$\n",
      "\n",
      "then it is given by the following:\n"
     ]
    },
    {
     "cell_type": "code",
     "collapsed": false,
     "input": [
      "H0_proton_ratio = t_PI / t_r\n",
      "\n",
      "print \"The ratio between neutral hydrogens and free protons\" \n",
      "print \"is {0:.2e}\".format(H0_proton_ratio)\n",
      "\n",
      "print \"So there is about one neutral atom per {0:.0f} free protons.\".format(1/H0_proton_ratio)\n"
     ],
     "language": "python",
     "metadata": {},
     "outputs": [
      {
       "output_type": "stream",
       "stream": "stdout",
       "text": [
        "The ratio between neutral hydrogens and free protons\n",
        "is 2.13e-04\n",
        "So there is about one neutral atom per 4691 free protons.\n"
       ]
      }
     ],
     "prompt_number": 237
    },
    {
     "cell_type": "markdown",
     "metadata": {},
     "source": [
      "#### (e)\n",
      "*Use the results of (d) to estimate the optical depth to the star from $R_s/2$ at the head of the Lyman continuum. Is this reasonably consistent with your calculation in (c)?*"
     ]
    },
    {
     "cell_type": "markdown",
     "metadata": {},
     "source": [
      "Lyman photons are absorbed by neutral hydrogens, not hydrogen ions.\n",
      "\n",
      "Optical depth $\\tau$ of this emission line is given by\n",
      "\n",
      "$$ \\tau_\\nu(r) = \\int_0^r n_{H^0} a_\\nu ds$$\n",
      "\n",
      "Assuming a constant neutral-hydrogen density through the relevant path length,\n",
      "\n",
      "$$ \\tau = n_{H^0} a_\\nu d $$\n",
      "\n",
      "where $d$ is the path length."
     ]
    },
    {
     "cell_type": "code",
     "collapsed": false,
     "input": [
      "tau = n_H * H0_proton_ratio * a_nu * R_s/2\n",
      "\n",
      "print (\"The optical depth for Lyman photons \\n\"\n",
      "\"from the star to half the Stromgren radius\")\n",
      "print \"is {0}\".format(tau)\n"
     ],
     "language": "python",
     "metadata": {},
     "outputs": [
      {
       "output_type": "stream",
       "stream": "stdout",
       "text": [
        "The optical depth for Lyman photons \n",
        "from the star to half the Stromgren radius\n",
        "is 0.375\n"
       ]
      }
     ],
     "prompt_number": 238
    },
    {
     "cell_type": "markdown",
     "metadata": {},
     "source": [
      "This seems consistent with the idea that about half the photons should be absorbed within half the Str\u00f6mgren sphere, within an order of magnitude!"
     ]
    },
    {
     "cell_type": "markdown",
     "metadata": {},
     "source": [
      "#### (f)\n",
      "*Compute the H$\\alpha$ luminosity emanating from this nebula.*\n"
     ]
    },
    {
     "cell_type": "markdown",
     "metadata": {},
     "source": [
      "The H$\\alpha$ emission is given by\n",
      "$$ L(\\textrm{H} \\alpha) = \\int_0^{R_s} 4 \\pi j_{H \\alpha} dV$$\n",
      "\n",
      "which can be rewritten as \n",
      "$$ \\frac{4 \\pi}{3} R_s^3 (4 \\pi j_{H \\alpha} ) $$.\n",
      "\n",
      "The table \"Table 4.4\" in notes from 1/24 suggests that at nearly all relevant densities, the strength of the H$\\beta$ line can be expressed as \n",
      "\n",
      "$$ \\frac{4 \\pi j_{H \\beta} }{ n_e n_p }\\approx 1.2 \\times 10^{-25} \\textrm{erg cm}^3 \\textrm{s}^{-1}$$\n",
      "\n",
      "and at $n_e \\sim 10$ the ratio of H$\\alpha$ relative to H$\\beta$ can be written as\n",
      "\n",
      "$$ \\frac{j_{H \\alpha} }{ j_{H \\beta}} \\approx 2.9 $$.\n",
      "\n",
      "In this formulation, $$j_{H \\alpha} = \\frac{1.2 \\cdot 2.9 \\cdot n_e n_p}{4 \\pi }\\times 10^{-25} \\textrm{erg cm}^3 \\textrm{s}^{-1} $$"
     ]
    },
    {
     "cell_type": "code",
     "collapsed": false,
     "input": [
      "j_Ha = 1.2 * 2.9 * n_H**2 / (4*np.pi) * 10**-25 * u.erg * u.cm**3 / u.s\n",
      "\n",
      "L_Ha = 4/3*np.pi * R_s**3 * (4*np.pi * j_Ha)\n",
      "\n",
      "print \"The Stromgren sphere's H-alpha luminosity\"\n",
      "print \"is {0:.2e}, or {1:.1f} solar luminosities\".format(L_Ha.to(u.erg/u.s), L_Ha.to(u.solLum).value)"
     ],
     "language": "python",
     "metadata": {},
     "outputs": [
      {
       "output_type": "stream",
       "stream": "stdout",
       "text": [
        "The Stromgren sphere's H-alpha luminosity\n",
        "is 2.94e+37 erg / s, or 7643.1 solar luminosities\n"
       ]
      }
     ],
     "prompt_number": 239
    },
    {
     "cell_type": "markdown",
     "metadata": {},
     "source": [
      "### 2\\. \n",
      "Compute the thermal equilibrium of a model H II region. Assume that only H, N, and O are present. Assume that the O abundance is $7 \\times 10^{-4}$ relative to H, and that 80% of the oxygen is O$^+$ and 20% is O$^{++}$."
     ]
    },
    {
     "cell_type": "markdown",
     "metadata": {},
     "source": [
      "#### (a)\n",
      "*Compute the net nebular heating rates per $n_e n_p$ for a 40,000 K star using the attached Table 3.1 for $\\tau_o = 0$ at each of the available gas temperatures with recombination cooling values in Table 3.2 (use Case B).*"
     ]
    },
    {
     "cell_type": "markdown",
     "metadata": {},
     "source": [
      "I assume that the \"net nebular heating rate\" is equivalent to a \"net effective heating rate\" (G-L$_R$) as described by Pogge on pg. 22.\n",
      "\n",
      "For these parameters, $T_i$ (the mean input energy of photoelectrons) is 2.48 $\\times 10^4$ K. Values of $\\alpha_B$ come from Table 2.1 in the slides of 1/14.\n",
      "\n",
      "T       $\\alpha_B / 10^{-13}$   $\\beta_B / 10^{-13}$\n",
      "\n",
      "5000    4.54       3.24\n",
      "\n",
      "10000   2.59       1.73\n",
      "\n",
      "20000   1.43       0.875"
     ]
    },
    {
     "cell_type": "code",
     "collapsed": false,
     "input": [
      "def energy_gain_per_n2(T_i, alpha):\n",
      "    G = 3/2 * c.k_B * T_i * alpha\n",
      "    return G.to(u.erg / u.s * u.cm**3)\n",
      "\n",
      "def energy_loss_per_n2(T, beta):\n",
      "    L_R = c.k_B * T * beta\n",
      "    return L_R.to(u.erg / u.s * u.cm**3)\n",
      "\n",
      "def net_effective_heating(T_i, T, alpha, beta):\n",
      "    G = energy_gain_per_n2(T_i, alpha)\n",
      "    L_R = energy_loss_per_n2(T, beta)\n",
      "    return G-L_R\n",
      "\n",
      "temperature_list = [5000, 10000, 20000]\n",
      "alpha_dict = {}\n",
      "alpha_dict[5000] = 4.54e-13 * u.cm**3/u.s\n",
      "alpha_dict[10000] = 2.59e-13 * u.cm**3/u.s\n",
      "alpha_dict[20000] = 1.43e-13 * u.cm**3/u.s\n",
      "beta_dict = {}\n",
      "beta_dict[5000] = 3.24e-13* u.cm**3/u.s\n",
      "beta_dict[10000] = 1.73e-13* u.cm**3/u.s\n",
      "beta_dict[20000] = 8.75e-14* u.cm**3/u.s\n",
      "\n",
      "T_i = 2.48e4 * u.K\n",
      "\n",
      "print \"Net effective heating at each temperature (G - L_R):\"\n",
      "for T in temperature_list:\n",
      "    heating = net_effective_heating(T_i, T*u.K, alpha_dict[T], beta_dict[T])\n",
      "    print \"{1:.2e}    at    T={0} K\".format(T, heating)"
     ],
     "language": "python",
     "metadata": {},
     "outputs": [
      {
       "output_type": "stream",
       "stream": "stdout",
       "text": [
        "Net effective heating at each temperature (G - L_R):\n",
        "2.11e-24 cm3 erg / s    at    T=5000 K\n",
        "1.09e-24 cm3 erg / s    at    T=10000 K\n",
        "4.93e-25 cm3 erg / s    at    T=20000 K\n"
       ]
      }
     ],
     "prompt_number": 240
    },
    {
     "cell_type": "markdown",
     "metadata": {},
     "source": []
    },
    {
     "cell_type": "markdown",
     "metadata": {},
     "source": [
      "#### (b)\n",
      "Using Table 3.6 for the collision strength = $\\Upsilon$ averaged over the Maxwellian velocity distribution of the electrons, compute the cooling rate for the [O III] $^3$P - $^1$D lines.\n",
      "The collision strength in the table refers to the *total* excitation of the 5007 and 4959 \u00c5 lines (sum of both) from the ground state; ignore the slight difference in excitation energy between these transitions. Assume the low-density limit for these lines. Evaluate the [O III] cooling rate at T=6000, 8000, 10,000 K, assuming that the $^3\\textrm{P}_0 - ^3\\textrm{P}_1$, etc. transitions are collisionally de-excited and thus can be neglected.\n",
      "\n",
      "\n"
     ]
    },
    {
     "cell_type": "markdown",
     "metadata": {},
     "source": [
      "The energy losses from line cooling look like this:\n",
      "\n",
      "$$ L_{line} = n_{ion} n_e q_{12} h \\nu_{line} $$.\n",
      "\n",
      "where \n",
      "\n",
      "$$ q_{21} = \\left( \\frac{2\\pi}{kT}\\right)^{1/2} \\frac{\\hbar^2}{m_e^{3/2}} \\frac{\\gamma_{12}}{g_2} $$\n",
      "$$ = \\frac{8.629 \\times 10^{-6}}{T^{1/2}} \\frac{\\gamma_{12}}{g_2} $$\n",
      "\n",
      "$$ q_{12} = \\frac{g_2}{g_1} q_{21} e^{- h \\nu / k T} $$\n",
      "\n",
      "The abundance of the oxygen 2+ ion goes as\n",
      "\n",
      "$$ n_{O^{++}} = 7 \\times 10^{-4} * 0.2 n_p $$\n",
      "\n",
      "because the O/H ratio is $7\\times 10^{-4}$ and the fraction of oxygen in the relevant ionization state is 20%.\n",
      "\n",
      "So finally,\n",
      "\n",
      "$$ \\frac{L_{21}}{n_p n_e} = \\frac{n_{O^{++}}}{n_p} q_{12} h \\nu_{21} $$\n",
      "\n",
      "with $q_{12}$ defined above.\n",
      "\n",
      "[O III], also known as O$^{++}$, has a collision strength $\\Upsilon = 2.29$ for the $^3$P - $^1$D line.\n",
      "\n",
      "The $^3$P and $^1$D states both have a statistical weight $g = 5$:\n",
      "\n",
      "For $^3$P: \n",
      "$ 2S+1 = 3 => S=1$. The shell P has $L = 1$. $J = S+L = 2$, hence $g = 2J+1 = 5$.\n",
      "\n",
      "For $^1$D: $2S+1 = 1 => S=0$. The shell D has $L=2$. $J=S+L=2$, hence $g = 2J+1 = 5$.\n",
      "\n"
     ]
    },
    {
     "cell_type": "code",
     "collapsed": false,
     "input": [
      "gamma_OIII = 2.29\n",
      "\n",
      "proton_mass = c.m_p\n",
      "g_OIII = 5 # see above J's, S's, L's.\n",
      "lambda_OIII = 4983 * u.angstrom\n",
      "OIII_abundance = 7e-4 * 0.2\n",
      "\n",
      "def collisional_cooling_per_n2(T, gamma, stat_weight_1, stat_weight_2, wavelength, abundance):\n",
      "#    q21_per_n2 = ( (2*np.pi/(c.k_B*T))**(1/2) * \n",
      "#                    c.hbar**2/mass**(3/2) *\n",
      "#                    gamma/stat_weight_2 )\n",
      "    q21_per_n2 = ( 8.629e-6 / (T/u.K)**(1/2) * \n",
      "                  gamma/stat_weight_2) * u.cm**3 / u.s\n",
      "\n",
      "    photon_energy = c.h * c.c / wavelength\n",
      "\n",
      "    q12_per_n2 = (stat_weight_2/stat_weight_1 * q21_per_n2 * \n",
      "                  np.exp(-photon_energy/(c.k_B*T)) )\n",
      "\n",
      "    cooling_rate = abundance * q12_per_n2 * photon_energy\n",
      "    return cooling_rate.to(u.erg / u.s * u.cm**3)\n",
      "\n",
      "temperatures = [6000, 8000, 10000]\n",
      "\n",
      "def oIII_cooling(T):\n",
      "    return collisional_cooling_per_n2(T*u.K, gamma_OIII, g_OIII, g_OIII, lambda_OIII, OIII_abundance)\n",
      "\n",
      "print \"Collisional line cooling rates for [OIII]:\"\n",
      "\n",
      "for T in temperatures:\n",
      "    cooling = oIII_cooling(T)\n",
      "    \n",
      "    print \"{0:.2e}     at     T={1} K\".format(cooling, T)    \n",
      "\n",
      "#print collisional_cooling_per_n2(10000*u.K, oxygen_ion_mass, gamma_OIII, g_OIII)"
     ],
     "language": "python",
     "metadata": {},
     "outputs": [
      {
       "output_type": "stream",
       "stream": "stdout",
       "text": [
        "Collisional line cooling rates for [OIII]:\n",
        "2.31e-25 cm3 erg / s     at     T=6000 K\n",
        "6.68e-25 cm3 erg / s     at     T=8000 K\n",
        "1.23e-24 cm3 erg / s     at     T=10000 K\n"
       ]
      }
     ],
     "prompt_number": 241
    },
    {
     "cell_type": "markdown",
     "metadata": {},
     "source": [
      "#### (c)\n",
      "Compute the cooling rate for the [OII] $^4$S-$^2$D 3727, 3729 \u00c5 lines using Table 3.7 analogously at the same temperatures."
     ]
    },
    {
     "cell_type": "markdown",
     "metadata": {},
     "source": [
      "Here, we use $\\lambda = 3728$ \u00c5, $\\Upsilon$ = 1.34."
     ]
    },
    {
     "cell_type": "code",
     "collapsed": false,
     "input": [
      "lambda_OII = 3728 * u.angstrom\n",
      "gamma_OII = 1.34\n",
      "g_OII_upper = 4 # from 4S \n",
      "g_OII_lower = 6 # from 2D\n",
      "\n",
      "OII_abundance = 7e-4 * 0.8\n",
      "\n",
      "def oII_cooling(T):\n",
      "    return collisional_cooling_per_n2(T*u.K, gamma_OII, g_OII_lower, g_OII_upper, lambda_OII, OII_abundance)\n",
      "\n",
      "print \"Collisional line cooling rates for [OII]:\"\n",
      "\n",
      "for T in temperatures:\n",
      "    cooling = oII_cooling(T)\n",
      "    \n",
      "    print \"{0:.2e}     at     T={1} K\".format(cooling, T)\n"
     ],
     "language": "python",
     "metadata": {},
     "outputs": [
      {
       "output_type": "stream",
       "stream": "stdout",
       "text": [
        "Collisional line cooling rates for [OII]:\n",
        "1.19e-25 cm3 erg / s     at     T=6000 K\n",
        "5.16e-25 cm3 erg / s     at     T=8000 K\n",
        "1.21e-24 cm3 erg / s     at     T=10000 K\n"
       ]
      }
     ],
     "prompt_number": 242
    },
    {
     "cell_type": "code",
     "collapsed": false,
     "input": [],
     "language": "python",
     "metadata": {},
     "outputs": [],
     "prompt_number": 242
    },
    {
     "cell_type": "markdown",
     "metadata": {},
     "source": [
      "#### (d)\n",
      "Compute the free-free radiative losses at the same temperatures assuming $g_{ff} = 1.3$."
     ]
    },
    {
     "cell_type": "markdown",
     "metadata": {},
     "source": [
      "The free-free radiation is given by\n",
      "\n",
      "$$ L_{ff} = 1.42 \\times 10^{-27} Z^2 T^{1/2} g_{ff} n_e n_p $$.\n",
      "\n",
      "The bulk of free-free emission should come from hydrogen atoms, so heavier ions are here neglected.\n",
      "\n"
     ]
    },
    {
     "cell_type": "code",
     "collapsed": false,
     "input": [
      "def free_free_cooling_rate(T, g):\n",
      "    \n",
      "    L_ff = 1.42e-27 * (T/u.K)**(1/2) * g\n",
      "    return L_ff * u.erg * u.cm**3 / u.s\n",
      "\n",
      "def ff_cooling(T):\n",
      "    return free_free_cooling_rate(T*u.K, 1.3)\n",
      "\n",
      "print \"Free-free cooling rates:\"\n",
      "for T in temperatures:\n",
      "    cooling = free_free_cooling_rate(T*u.K, 1.3)\n",
      "    \n",
      "    print \"{0:.2e}     at     T={1} K\".format(cooling, T)\n",
      "    "
     ],
     "language": "python",
     "metadata": {},
     "outputs": [
      {
       "output_type": "stream",
       "stream": "stdout",
       "text": [
        "Free-free cooling rates:\n",
        "1.43e-25 cm3 erg / s     at     T=6000 K\n",
        "1.65e-25 cm3 erg / s     at     T=8000 K\n",
        "1.85e-25 cm3 erg / s     at     T=10000 K\n"
       ]
      }
     ],
     "prompt_number": 243
    },
    {
     "cell_type": "markdown",
     "metadata": {},
     "source": [
      "#### (e)\n",
      "\n",
      "Compute the total cooling rates at the three temperatures by estimating that the [NII] cooling is equal to the [O III] cooling rate computed above. Compare your results with the heating rates to estimate the resulting nebular temperature in thermal equilibrium.\n"
     ]
    },
    {
     "cell_type": "markdown",
     "metadata": {},
     "source": [
      "$$ L = L_{[OIII]} + L_{[OII]} + L_{ff} + L_{[NII]}$$\n",
      "$$ = 2L_{[OIII]} + L_{[OII]} + L_{ff} $$"
     ]
    },
    {
     "cell_type": "code",
     "collapsed": false,
     "input": [
      "\n",
      "print \"Total cooling = 2*OIII_cooling + OII_cooling + ff_cooling\"\n",
      "for T in temperatures:\n",
      "    \n",
      "    total_cooling = 2*oIII_cooling(T) + oII_cooling(T) + ff_cooling(T)\n",
      "    \n",
      "    print \"{0:.2e}     at     T={1} K\".format(total_cooling, T)\n",
      "\n",
      "print \"\"\n",
      "print \"Net effective heating at each temperature (G - L_R) from above:\"\n",
      "for T in temperature_list:\n",
      "    heating = net_effective_heating(T_i, T*u.K, alpha_dict[T], beta_dict[T])\n",
      "    print \"{1:.2e}    at    T={0} K\".format(T, heating)"
     ],
     "language": "python",
     "metadata": {},
     "outputs": [
      {
       "output_type": "stream",
       "stream": "stdout",
       "text": [
        "Total cooling = 2*OIII_cooling + OII_cooling + ff_cooling\n",
        "7.25e-25 cm3 erg / s     at     T=6000 K\n",
        "2.02e-24 cm3 erg / s     at     T=8000 K\n",
        "3.85e-24 cm3 erg / s     at     T=10000 K\n",
        "\n",
        "Net effective heating at each temperature (G - L_R) from above:\n",
        "2.11e-24 cm3 erg / s    at    T=5000 K\n",
        "1.09e-24 cm3 erg / s    at    T=10000 K\n",
        "4.93e-25 cm3 erg / s    at    T=20000 K\n"
       ]
      }
     ],
     "prompt_number": 244
    },
    {
     "cell_type": "markdown",
     "metadata": {},
     "source": [
      "Based on the above output, the cooling and heating curves seem to balance near $ 1 \\times 10^{-24}$, which is reached somewhere between 6000 and 10000 K \u2013 it is hard to pinpoint exactly where since the heating values are populated sparsely.\n",
      "\n",
      "However, I can make a plot and"
     ]
    },
    {
     "cell_type": "code",
     "collapsed": false,
     "input": [
      "import matplotlib.pyplot as plt\n",
      "\n",
      "fig = plt.figure()\n",
      "\n",
      "temp_array = np.linspace(5000, 20000, 50)\n",
      "\n",
      "def total_cooling(T):\n",
      "    return 2*oIII_cooling(T) + oII_cooling(T) + ff_cooling(T)\n",
      "\n",
      "cooling_array = total_cooling(temp_array)\n",
      "\n",
      "plt.plot(temp_array, cooling_array, 'b-', label=\"Total cooling curve\")\n",
      "plt.semilogy()\n",
      "plt.xlim(5000, 20000)\n",
      "plt.xlabel(\"Nebula temperature (K)\")\n",
      "plt.ylabel(\"Heating or cooling rate / $n_p n_e$ (erg cm$^3$ s$^{-1}$)\" )\n",
      "\n",
      "heating_list = [2.11e-24, 1.09e-24, 4.93e-25]\n",
      "plt.plot(temperature_list, heating_list, 'ro-', label=\"Effective heating (crudely interpolated)\")\n",
      "plt.legend()"
     ],
     "language": "python",
     "metadata": {},
     "outputs": [
      {
       "metadata": {},
       "output_type": "pyout",
       "prompt_number": 245,
       "text": [
        "<matplotlib.legend.Legend at 0x109259090>"
       ]
      },
      {
       "metadata": {},
       "output_type": "display_data",
       "png": "[encoded data removed]",
       "text": [
        "<matplotlib.figure.Figure at 0x1092aac90>"
       ]
      }
     ],
     "prompt_number": 245
    },
    {
     "cell_type": "markdown",
     "metadata": {},
     "source": [
      "By reading the above plot carefully, it's clear that a heating-cooling balance is reached in this nebula at a temperature around 7500 K."
     ]
    },
    {
     "cell_type": "markdown",
     "metadata": {},
     "source": [
      "#### (f) \n",
      "For your estimated temperature, estimate the ratio of the sum of the fluxes of the [OIII] lines to H$\\beta$."
     ]
    },
    {
     "cell_type": "markdown",
     "metadata": {},
     "source": [
      "From the slides, \n",
      "$$ 4 \\pi j_{H \\beta} / n_e n_p \\approx 1.7 \\times 10^{-25} \\textrm{erg cm}^3 s^{-1}$$\n",
      "(interpolating between T=5000 and T=10,000 K).\n",
      "\n",
      "Taking a straight ratio between this value and the energy loss from [O III] lines at T=7500 K:\n"
     ]
    },
    {
     "cell_type": "code",
     "collapsed": false,
     "input": [
      "flux_ratio = oIII_cooling(7500)/(1.7e-25 * u.erg * u.cm**3 /u.s)\n",
      "print \"The flux ratio between the [OIII] lines and H-beta\"\n",
      "print \"is {0:.2f}\".format(flux_ratio)"
     ],
     "language": "python",
     "metadata": {},
     "outputs": [
      {
       "output_type": "stream",
       "stream": "stdout",
       "text": [
        "The flux ratio between the [OIII] lines and H-beta\n",
        "is 3.19\n"
       ]
      }
     ],
     "prompt_number": 246
    },
    {
     "cell_type": "markdown",
     "metadata": {},
     "source": [
      "#### (g)\n",
      "Suppose the O abundance were reduced by a factor of two (lower than solar metallicity) in this nebula. Assume the same ratio of O$^+$ to O$^{++}$. Qualitatively, would the [O III]/H$\\beta$ ratio decrease by a factor of two? Why or why not?"
     ]
    },
    {
     "cell_type": "markdown",
     "metadata": {},
     "source": [
      "Here is how the flux lines depend on oxygen abundance and temperature:\n",
      "\n",
      "$$ F_{[OIII]} \\propto n_{O^{++}} \\frac{1}{T^{1/2}} e^{-h\\nu/ kT} $$\n",
      "$$F_{H \\beta} \\propto 1/T $$"
     ]
    },
    {
     "cell_type": "markdown",
     "metadata": {},
     "source": [
      "I think the ratio would *not* decrease by a factor of two, because even though the oxygen abundance decreases by that amount, the corresponding nebular temperature has to increase to make up for the less efficient cooling, and this drives the [O III] flux up higher than simply \"half\", while the H$\\beta$ flux would go down, per the above relations."
     ]
    },
    {
     "cell_type": "code",
     "collapsed": false,
     "input": [],
     "language": "python",
     "metadata": {},
     "outputs": [],
     "prompt_number": 246
    }
   ],
   "metadata": {}
  }
 ]
}