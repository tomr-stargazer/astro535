{
 "metadata": {
  "name": "",
  "signature": "sha256:75d20adb635893394cfde82b06b8c096c6fa4243a2ea5da49cc4584c9b15b396"
 },
 "nbformat": 3,
 "nbformat_minor": 0,
 "worksheets": [
  {
   "cells": [
    {
     "cell_type": "markdown",
     "metadata": {},
     "source": [
      "# A535 W15 Homework #6\n",
      "\n",
      "Tom Rice\n"
     ]
    },
    {
     "cell_type": "markdown",
     "metadata": {},
     "source": [
      "## 1. \n",
      "Consider the observed intensity of the CO $1-0$ rotational transition from a uniform density slab of molecular gas."
     ]
    },
    {
     "cell_type": "markdown",
     "metadata": {},
     "source": [
      "### a)\n",
      "Write the equation of statistical equilibrium for this transition, defining the symbols you use."
     ]
    },
    {
     "cell_type": "markdown",
     "metadata": {},
     "source": [
      "$$ n_1 A_{10} + n_1 n_{H_2} q_{10} + n_1 B_{10} j = n_0 n_{H_2} q_{01} + n_0 B_{01} j$$\n",
      "\n",
      "* $n_1$, $n_0$ : number density of CO in the $J=1$ and $J=0$ states, respectively\n",
      "* $n_{H_2}$ : number density of H$_2$, the primary colliding partner\n",
      "* $A_{10}$ : spontaneous emission rate from $1-0$\n",
      "* $B_{10}, B_{01}$ : stimulated emission and absorption rates, respectively\n",
      "* $q_{10}, q_{01}$: volumetric rates of collisional de-excitation and excitation, respectively\n",
      "* $j$ : radiative emissivity field incident onto the CO molecule which has the potential to excite the rotational transition"
     ]
    },
    {
     "cell_type": "markdown",
     "metadata": {},
     "source": [
      "### b), c)\n",
      "\n",
      "attached, hand-written"
     ]
    },
    {
     "cell_type": "markdown",
     "metadata": {},
     "source": [
      "### d)\n",
      "Calculate the critical density at $T=10$ K."
     ]
    },
    {
     "cell_type": "code",
     "collapsed": false,
     "input": [
      "from __future__ import division\n",
      "\n",
      "import astropy.units as u\n",
      "import astropy.constants as c\n",
      "\n",
      "T = 10 * u.K\n",
      "T_100 = (T/(100*u.K))\n",
      "\n",
      "A_10 = 7e-8 / u.s\n",
      "q_10 = 6e-11 * T_100**0.2 * u.cm**3 / u.s\n",
      "\n",
      "n_crit = A_10 / q_10\n",
      "\n",
      "n_crit"
     ],
     "language": "python",
     "metadata": {},
     "outputs": [
      {
       "latex": [
        "$1849.0421 \\; \\mathrm{\\frac{1}{cm^{3}}}$"
       ],
       "metadata": {},
       "output_type": "pyout",
       "prompt_number": 6,
       "text": [
        "<Quantity 1849.0420578712992 1 / cm3>"
       ]
      }
     ],
     "prompt_number": 6
    },
    {
     "cell_type": "markdown",
     "metadata": {},
     "source": [
      "In low-density: If the CO excitation temperature matches the temperature of CMB, then you can't see it very easily because it blends in with the CMB!"
     ]
    },
    {
     "cell_type": "markdown",
     "metadata": {},
     "source": [
      "## 2.\n",
      "\n",
      "### a)\n",
      "done by hand.\n"
     ]
    },
    {
     "cell_type": "markdown",
     "metadata": {},
     "source": [
      "### b)\n",
      "\n",
      "$$ \\Sigma = 1.4 m_H N_H $$\n",
      "$$ B_c = (4 \\pi^2 G)^{1/2} 1.4 m_H 1.9 \\times 10^{21} \\rm{cm}^{-2} A_V  $$\n",
      "\n",
      "\n",
      "### c)"
     ]
    },
    {
     "cell_type": "code",
     "collapsed": false,
     "input": [
      "import matplotlib.pyplot as plt\n",
      "\n",
      "def B_c(N_H):\n",
      "    \n",
      "    N_H = u.Quantity(N_H, u.cm**-2)\n",
      "    \n",
      "    B = (4*np.pi**2*c.G.cgs)**(1/2) * 1.4*c.m_p * N_H\n",
      "    \n",
      "    return B.to(u.statC/u.cm**2)\n",
      "\n",
      "OH_B = B_c(2*4e21*u.cm**-2)\n",
      "CN_B = B_c(2*5e23*u.cm**-2)\n",
      "\n",
      "print \"\"\n",
      "print \"True critical magnetic field at n~1e3: {0:.2f} uG\".format(OH_B.value*1e6)\n",
      "print \"True critical magnetic field at n~1e6: {0:.2f} uG\".format(CN_B.value*1e6)\n",
      "print \"\"\n",
      "\n",
      "fig = plt.figure(figsize=(10,8))\n",
      "plt.plot([3e3, 1e6] , [OH_B.value*1e6, CN_B.value*1e6] )\n",
      "plt.loglog()\n",
      "plt.xlabel(r\"$n(H_2) (cm^{-3})$\", fontsize=18)\n",
      "plt.ylabel(\"$B(N_{H_2}) (\\mu G)$\", fontsize=18)"
     ],
     "language": "python",
     "metadata": {},
     "outputs": [
      {
       "output_type": "stream",
       "stream": "stdout",
       "text": [
        "\n",
        "True critical magnetic field at n~1e3: 30.41 uG\n",
        "True critical magnetic field at n~1e6: 3800.96 uG\n",
        "\n"
       ]
      },
      {
       "metadata": {},
       "output_type": "pyout",
       "prompt_number": 36,
       "text": [
        "<matplotlib.text.Text at 0x10a85b990>"
       ]
      },
      {
       "metadata": {},
       "output_type": "display_data",
       "png": "[encoded data removed]",
       "text": [
        "<matplotlib.figure.Figure at 0x108099dd0>"
       ]
      }
     ],
     "prompt_number": 36
    },
    {
     "cell_type": "markdown",
     "metadata": {},
     "source": [
      "Comparing the Crutcher et al. plot to the values calculated, it's clear we are essentially \"at\" criticality, although some are below it."
     ]
    },
    {
     "cell_type": "markdown",
     "metadata": {},
     "source": [
      "## 3.\n",
      "done by hand."
     ]
    }
   ],
   "metadata": {}
  }
 ]
}