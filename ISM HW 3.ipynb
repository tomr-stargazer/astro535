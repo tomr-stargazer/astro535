{
 "metadata": {
  "name": "",
  "signature": "sha256:23477a7fcb48929b0300f1c77579f77504bd2980e3e6f9823a262cb8a6e56bed"
 },
 "nbformat": 3,
 "nbformat_minor": 0,
 "worksheets": [
  {
   "cells": [
    {
     "cell_type": "markdown",
     "metadata": {},
     "source": [
      "# Astro 535 Homework #3\n",
      "Tom Rice\n",
      "20 Feb 2015"
     ]
    },
    {
     "cell_type": "markdown",
     "metadata": {},
     "source": [
      "## 1.\n",
      "Optical depths of spectral lines can be conveniently calculated using the (non-dimensional) oscillator strength $f_{ij}$,\n",
      "such that the total opacity in a line transition is given in units of the classical absorption cross-section as\n",
      "\n",
      "$$ \\int k_\\nu d\\nu = \\frac{\\pi e^2}{mc}f_{ij} = 0.02654 f_{ij} \\textrm{cm}^2, $$\n",
      "\n",
      "where $m$ and $e$ are the electron mass in g and charge in esu, respectively. We can relate this to the Einstein coefficients using the definition of the rate equation in thermal equilibrium,\n",
      "\n",
      "$$ (n_i B_{ij} - n_j B_{ji}) J = n_j A_{ji} $$\n",
      "\n",
      "Here $J$ is the mean intensity of the radiation field, averaged over the line with central frequency $\\nu_{ij}$. In this rate equation, the spontaneous emission transition probability $A_{ji}$ has units of s$^{-1}$, while the mean intensity $J$ has units of erg cm$^{-2}$ s$^{-1}$ ster$^{-1}$.\n",
      "Translating this to a system where the opacity has the units of area (per absorber), the absorption rate (ignoring stimulated emission) must be\n",
      "\n",
      "$$ B_{ij} J = 4\\pi \\frac{J}{h \\nu_{ij} }\\times \\sigma = 4 \\pi \\frac{J}{h \\nu_{ij}} \\frac{\\pi e^2}{mc} f_{ij}$$\n",
      "\n",
      "so that\n",
      "\n",
      "$$ \\frac{ h \\nu_{ij} B_{ij}}{4\\pi} = \\frac{\\pi e^2}{mc} f_{ij}.$$"
     ]
    },
    {
     "cell_type": "markdown",
     "metadata": {},
     "source": [
      "### (a)\n",
      "Taking this result, **use the detailed balance relations** between the Einstein A's and B's to show that\n",
      "$$ f_{ij} = 1.5 \\times 10^{-8} \\frac{g_j}{g_i} A_{ji} \\lambda_\\mu^2 $$\n",
      "\n",
      "where $\\lambda_\\mu$ is the wavelength of the transition measured in $\\mu$ m. Note that you can always check this by asking for the oscillator strength at physics.nist.gov."
     ]
    },
    {
     "cell_type": "code",
     "collapsed": false,
     "input": [],
     "language": "python",
     "metadata": {},
     "outputs": []
    },
    {
     "cell_type": "markdown",
     "metadata": {},
     "source": [
      "### (b) \n",
      "**Show** that the result given in Pogge for the line center optical depth,\n",
      "$$ \\tau_o = N \\frac{\\lambda_o^4}{8 \\pi^{3/2}c} \\frac{g_j}{g_i} \\frac{A_{ji}}{b_\\lambda} $$\n",
      "\n",
      "is equivalent to the result presented in class,\n",
      "\n",
      "$$ \\tau_o = N \\frac{\\pi e^2}{mc} f_{ij} \\frac{1}{\\pi^{1/2} \\Delta \\nu_D} .$$"
     ]
    },
    {
     "cell_type": "code",
     "collapsed": false,
     "input": [],
     "language": "python",
     "metadata": {},
     "outputs": []
    },
    {
     "cell_type": "markdown",
     "metadata": {},
     "source": [
      "## 2.\n",
      "Consider the profiles of lines formed along the line of sight toward a star near the edge of the local bubble.\n",
      "The star is at a distance of 150 pc and the hydrogen density along the line of sight to the star is 0.1 cm$^{-3}$.\n",
      "Assume that the doppler widths of all lines are set by some kind of \"turbulent\" velocity (i.e., equivalent to a thermal velocity) of 10 km/s.\n"
     ]
    },
    {
     "cell_type": "markdown",
     "metadata": {},
     "source": [
      "### (a)\n",
      "**Compute** the line center optical depths of the Ca II 3933, 3968 \u00c5 resonance lines.\n",
      "Use an abundance of Ca/H of $2\\times 10^{-7}$. \n",
      "This is roughly an order of magnitude smaller than the solar ratio; why might this be appropriate?"
     ]
    },
    {
     "cell_type": "code",
     "collapsed": false,
     "input": [],
     "language": "python",
     "metadata": {},
     "outputs": []
    },
    {
     "cell_type": "markdown",
     "metadata": {},
     "source": [
      "### (b)\n",
      "Now **compute** the absorption line profile for each line. \n",
      "Use the appropriate *schematic* form of the Voigt function\n",
      "\n",
      "$$ H(a,u) \\simeq \\exp(-u^2) + \\frac{a}{\\pi^{1/2} u^2}. $$\n",
      "\n",
      "(Assume that the only natural broadening is due to the resonance line decay to ground and no other transition.)\n",
      "**Plot** the profiles relative to a background continuum of unity, and with an ordinate of $\\Delta$\u00c5 relative to line center.\n",
      "**Compute** the absorption equivalent widths for each line.\n",
      "**Compare** the ratio of equivalent widths of the two resonance lines and comment on the result.\n",
      "Note: you will have to exercise some care in calculating the profile to get an accurate result."
     ]
    },
    {
     "cell_type": "code",
     "collapsed": false,
     "input": [],
     "language": "python",
     "metadata": {},
     "outputs": [],
     "prompt_number": 0
    },
    {
     "cell_type": "markdown",
     "metadata": {},
     "source": [
      "### (c)\n",
      "Next, **compute** the line center optical depth and absorption line profile for Ly$\\alpha$, assuming that all of the H is neutral. \n",
      "(See Note in part b.)\n",
      "Upon what part of the curve of growth does this line lie?\n",
      "Does it make it easy or difficult to use an observation of Ly$\\alpha$ to get an H column density?\n",
      "Why?"
     ]
    },
    {
     "cell_type": "code",
     "collapsed": false,
     "input": [],
     "language": "python",
     "metadata": {},
     "outputs": []
    },
    {
     "cell_type": "markdown",
     "metadata": {},
     "source": [
      "### (d)\n",
      "Finally, **compute** the line center optical depth of the H I 21 cm line over this same region assuming the same broadening velocity and an excitation (spin) temperature of 100 K.\n",
      "Would you be able to use the 21 cm line to measure the column density as well as using Ly$\\alpha$ observations?"
     ]
    },
    {
     "cell_type": "code",
     "collapsed": false,
     "input": [],
     "language": "python",
     "metadata": {},
     "outputs": []
    },
    {
     "cell_type": "markdown",
     "metadata": {},
     "source": [
      "## 3.\n",
      "Consider a region of the diffuse local ISM."
     ]
    },
    {
     "cell_type": "markdown",
     "metadata": {},
     "source": [
      "### (a)\n",
      "Assume that the electrons arise entirely from ionization of hydrogen by a combination of soft X-rays and cosmic rays at a rate $2\\times 10^{-17}\\textrm{s}^{-1}$. \n",
      "Use the *low-temperature* hydrogen recombination rate $\\alpha \\sim 2.2 \\times 10^{-10}~T(\\textrm{K})^{-0.725}\\textrm{cm}^3\\textrm{s}^{-1}$ to **calculate** the electron density $n_e$ as a function of neutral hydrogen density $n_H$ and $T$."
     ]
    },
    {
     "cell_type": "code",
     "collapsed": false,
     "input": [],
     "language": "python",
     "metadata": {},
     "outputs": []
    },
    {
     "cell_type": "markdown",
     "metadata": {},
     "source": [
      "### (b)\n",
      "Using the result from **(a)**, **compute and plot** heating and cooling rates for the following processes as a function of hydrogen density $n_H$ for a pressure $P_H/k = 3\\times 10^3\\textrm{cm}^3 \\textrm{K}$ (assume most of the hydrogen is neutral):"
     ]
    },
    {
     "cell_type": "markdown",
     "metadata": {},
     "source": [
      "#### (i)\n",
      "Photoelectric heating from grains, at a rate\n",
      "$$ 4 \\times 10^{-26} \\left( \\frac{n_H}{\\textrm{cm^{-3}}} \\right)^{0.25} \\textrm{erg~cm}^{-3}\\textrm{s}^{-1}, $$\n",
      "where the fractional power of hydrogen"
     ]
    },
    {
     "cell_type": "code",
     "collapsed": false,
     "input": [],
     "language": "python",
     "metadata": {},
     "outputs": []
    }
   ],
   "metadata": {}
  }
 ]
}