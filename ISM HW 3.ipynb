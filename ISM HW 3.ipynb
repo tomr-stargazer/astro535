{
 "metadata": {
  "name": "",
  "signature": "sha256:67a6eea425866eb2ca06e1bb6b8561d89906a3c02cd9a807625b4fbc32de650f"
 },
 "nbformat": 3,
 "nbformat_minor": 0,
 "worksheets": [
  {
   "cells": [
    {
     "cell_type": "markdown",
     "metadata": {},
     "source": [
      "# Astro 535 Homework #3\n",
      "Tom Rice\n",
      "20 Feb 2015"
     ]
    },
    {
     "cell_type": "markdown",
     "metadata": {},
     "source": [
      "## 1.\n",
      "Optical depths of spectral lines can be conveniently calculated using the (non-dimensional) oscillator strength $f_{ij}$,\n",
      "such that the total opacity in a line transition is given in units of the classical absorption cross-section as\n",
      "\n",
      "$$ \\int k_\\nu d\\nu = \\frac{\\pi e^2}{mc}f_{ij} = 0.02654 f_{ij} \\textrm{cm}^2, $$\n",
      "\n",
      "where $m$ and $e$ are the electron mass in g and charge in esu, respectively. We can relate this to the Einstein coefficients using the definition of the rate equation in thermal equilibrium,\n",
      "\n",
      "$$ (n_i B_{ij} - n_j B_{ji}) J = n_j A_{ji}~~~~~~~~(2) $$\n",
      "\n",
      "Here $J$ is the mean intensity of the radiation field, averaged over the line with central frequency $\\nu_{ij}$. In this rate equation, the spontaneous emission transition probability $A_{ji}$ has units of s$^{-1}$, while the mean intensity $J$ has units of erg cm$^{-2}$ s$^{-1}$ ster$^{-1}$.\n",
      "Translating this to a system where the opacity has the units of area (per absorber), the absorption rate (ignoring stimulated emission) must be\n",
      "\n",
      "$$ B_{ij} J = 4\\pi \\frac{J}{h \\nu_{ij} }\\times \\sigma = 4 \\pi \\frac{J}{h \\nu_{ij}} \\frac{\\pi e^2}{mc} f_{ij}$$\n",
      "\n",
      "so that\n",
      "\n",
      "$$ \\frac{ h \\nu_{ij} B_{ij}}{4\\pi} = \\frac{\\pi e^2}{mc} f_{ij}. ~~~~~~~~(4)$$"
     ]
    },
    {
     "cell_type": "code",
     "collapsed": false,
     "input": [
      "from __future__ import division\n",
      "\n",
      "import numpy as np\n",
      "import astropy.units as u\n",
      "import astropy.constants as c"
     ],
     "language": "python",
     "metadata": {},
     "outputs": [],
     "prompt_number": 1
    },
    {
     "cell_type": "markdown",
     "metadata": {},
     "source": [
      "### (a)\n",
      "Taking this result, **use the detailed balance relations** between the Einstein A's and B's to show that\n",
      "$$ f_{ij} = 1.5 \\times 10^{-8} \\frac{g_j}{g_i} A_{ji} \\lambda_\\mu^2 $$\n",
      "\n",
      "where $\\lambda_\\mu$ is the wavelength of the transition measured in $\\mu$ m. Note that you can always check this by asking for the oscillator strength at physics.nist.gov."
     ]
    },
    {
     "cell_type": "markdown",
     "metadata": {},
     "source": [
      "When we solve Eq. (4) for $f_{ij}$, we get this:\n",
      "\n",
      "$$ f_{ij} = \\frac{mc}{\\pi e^2} \\frac{h \\nu}{4\\pi} B_{ij} $$\n",
      "\n",
      "If we take Eq. (2) above and set the stimulated emission term to zero, we get\n",
      "\n",
      "$$ J n_i B_{ij} = n_j A_{ji} $$\n",
      "$$ => B_{ij} = \\frac{n_j}{n_i} \\frac{A_{ji}}{J} $$\n",
      "\n",
      "also, in thermal equilibrium, the number densities of states $i$ and $j$ equilibriate with their statistical weights times their energy exponent:\n",
      "\n",
      "$$ \\frac{n_j}{n_i} = \\frac{g_j}{g_i} \\exp(-\\chi / kT) $$\n",
      "\n",
      "(let $\\chi \\equiv h\\nu$)\n",
      "\n",
      "hence\n",
      "\n",
      "$$ B_{ij} = \\frac{g_j}{g_i} \\exp(-\\chi/kT) \\frac{A_{ji}}{J} $$\n",
      "\n",
      "and here let $J$ (the mean intensity) be the Planck function $B_\\nu$ (since we're in thermal equilibrium):\n",
      "\n",
      "$$ J = \\frac{2 h \\nu^3}{c^2} \\frac{1}{\\exp(\\chi/kT)-1} $$\n",
      "\n",
      "Assume $\\exp(\\chi/kT) \\gg 1$:\n",
      "\n",
      "$$ J = \\frac{2 h \\nu^3}{c^2} \\frac{1}{\\exp(\\chi/kT)} ~~~~~~~~(T1)$$\n",
      "\n",
      "fold this new expression for $B$ into the $f_{ij}$ above and we get:\n",
      "\n",
      "$$ f_{ij} = \\left(\\frac{mc}{\\pi e^2}\\right) \\frac{c^2}{8\\pi \\nu^2} \\frac{g_j}{g_i} A_{ji} $$\n",
      "convert $\\nu \\rightarrow \\lambda$:\n",
      "\n",
      "$$ f_{ij} = \\left(\\frac{mc}{\\pi e^2}\\right) \\frac{1}{8\\pi} \\frac{g_j}{g_i} A_{ji} \\lambda^2 $$\n",
      "\n",
      "Remember that $\\lambda_\\mu \\equiv \\frac{\\lambda}{1~\\mu\\textrm{m}} => \\lambda =1~\\mu\\textrm{m} \\cdot \\lambda_\\mu$. Now let us deal with the quantity $\\frac{1}{8\\pi}\\left(\\frac{mc}{\\pi e^2}\\right) \\times (1~\\mu\\textrm{m})^{2}$:"
     ]
    },
    {
     "cell_type": "code",
     "collapsed": false,
     "input": [
      "piesquared_over_mc = 0.02654 * u.cm**2\n",
      "micron_squared = (1*u.um)**2\n",
      "\n",
      "coefficient = 1/piesquared_over_mc * 1/(8*np.pi) * micron_squared\n",
      "print coefficient.decompose()"
     ],
     "language": "python",
     "metadata": {},
     "outputs": [
      {
       "output_type": "stream",
       "stream": "stdout",
       "text": [
        "1.49919878572e-08\n"
       ]
      }
     ],
     "prompt_number": 4
    },
    {
     "cell_type": "markdown",
     "metadata": {},
     "source": [
      "Thus we get\n",
      "$$ f_{ij} = 1.499 \\times 10^{-8} \\frac{g_j}{g_i} A_{ji} \\lambda_\\mu^2 $$\n",
      "as desired. $\\square$\n"
     ]
    },
    {
     "cell_type": "markdown",
     "metadata": {},
     "source": [
      "### (b) \n",
      "**Show** that the result given in Pogge for the line center optical depth,\n",
      "$$ \\tau_o = N \\frac{\\lambda_o^4}{8 \\pi^{3/2}c} \\frac{g_j}{g_i} \\frac{A_{ji}}{b_\\lambda} $$\n",
      "\n",
      "is equivalent to the result presented in class,\n",
      "\n",
      "$$ \\tau_o = N \\frac{\\pi e^2}{mc} f_{ij} \\frac{1}{\\pi^{1/2} \\Delta \\nu_D} .$$"
     ]
    },
    {
     "cell_type": "markdown",
     "metadata": {},
     "source": [
      "Two substitutions are needed to make the above happen:\n",
      "\n",
      "* let's turn $b_\\lambda$ into something useful:\n",
      "\n",
      "$b_\\lambda = \\frac{\\lambda_o b}{c}$ where $b=\\left(\\frac{2kT}{m}\\right)^{1/2}$\n",
      "note that the thermal doppler width is given by\n",
      "$$ \\Delta \\nu_D = \\sqrt{\\frac{kT}{mc^2}} \\nu_o  = \\sqrt{\\frac{kT}{mc^2}} \\frac{c}{\\lambda_o}$$\n",
      "\n",
      "so $b_\\lambda = \\lambda_o^2 \\Delta \\nu_D /c $\n",
      "\n",
      "$$ => \\tau_o = N \\frac{\\lambda_o^2}{8\\pi^{3/2}} \\frac{g_j}{g_i} \\frac{A_{ji}}{\\Delta \\nu_D}$$\n",
      "\n",
      "* let's use the expression (T1) from part (1a) to manipulate $f_{ij}$ into something useful\n",
      "\n",
      "$$ \\frac{g_j}{g_i} A_{ji} \\frac{\\lambda^2}{8\\pi} = f_{ij} \\frac{\\pi e^2}{mc} $$\n",
      "\n",
      "$$ =>  \\tau_o = N \\frac{\\pi e^2}{mc} f_{ij} \\frac{1}{\\pi^{1/2} \\Delta \\nu_D} $$\n",
      "\n",
      "as desired. $\\square$"
     ]
    },
    {
     "cell_type": "markdown",
     "metadata": {},
     "source": [
      "## 2.\n",
      "Consider the profiles of lines formed along the line of sight toward a star near the edge of the local bubble.\n",
      "The star is at a distance of 150 pc and the hydrogen density along the line of sight to the star is 0.1 cm$^{-3}$.\n",
      "Assume that the doppler widths of all lines are set by some kind of \"turbulent\" velocity (i.e., equivalent to a thermal velocity) of 10 km/s.\n"
     ]
    },
    {
     "cell_type": "markdown",
     "metadata": {},
     "source": [
      "### (a)\n",
      "**Compute** the line center optical depths of the Ca II 3933, 3968 \u00c5 resonance lines.\n",
      "Use an abundance of Ca/H of $2\\times 10^{-7}$. \n",
      "This is roughly an order of magnitude smaller than the solar ratio; why might this be appropriate?"
     ]
    },
    {
     "cell_type": "code",
     "collapsed": false,
     "input": [
      "def line_center_optical_depth(column_density, oscillator_strength, doppler_velocity, central_wavelength):    \n",
      "    \n",
      "    lambda_o = u.Quantity(central_wavelength)\n",
      "    \n",
      "    N = u.Quantity(column_density, u.cm**-2)\n",
      "    f = u.Quantity(oscillator_strength, u.s**-1)\n",
      "    v = u.Quantity(doppler_velocity, u.km/u.s)\n",
      "    nu_o = c.c/lambda_o\n",
      "    Delta_nu_D = (v/c.c * nu_o).to(u.GHz)\n",
      "    \n",
      "    tau_o = N * piesquared_over_mc * f / (np.pi**(1/2) * Delta_nu_D)\n",
      "    \n",
      "    return tau_o.decompose()\n",
      "\n",
      "# atomic parameters from http://physics.nist.gov/cgi-bin/ASD/lines1.pl\n",
      "lambda_CaII_3933 =  3933.66 * u.Angstrom\n",
      "A_CaII_3933 = 1.47e+08 / u.s\n",
      "f_CaII_3933 = 6.82e-01 / u.s\n",
      "\n",
      "lambda_CaII_3968 = 3968.47 * u.Angstrom\n",
      "A_CaII_3968 = 1.4e+08 / u.s\n",
      "f_CaII_3968 = 3.3e-01 / u.s\n",
      "\n",
      "distance = 150 * u.pc\n",
      "# lowercase n is number density\n",
      "n_H = 0.1 * u.cm**-3\n",
      "# capital N is column density\n",
      "N_H = (n_H * distance).to(u.cm**-2) \n",
      "\n",
      "Ca_H_ratio = 2e-7\n",
      "N_Ca = N_H * Ca_H_ratio\n",
      "\n",
      "turbulent_velocity = 10 * u.km/u.s\n",
      "\n",
      "tau_o_3933 = line_center_optical_depth(N_Ca, f_CaII_3933, turbulent_velocity, lambda_CaII_3933)\n",
      "tau_o_3968 = line_center_optical_depth(N_Ca, f_CaII_3968, turbulent_velocity, lambda_CaII_3968)\n",
      "\n",
      "print \"Central optical depth\"\n",
      "print \"  of 3933 line: {0:.3f}\".format(tau_o_3933)\n",
      "print \"  of 3968 line: {0:.3f}\".format(tau_o_3968)\n"
     ],
     "language": "python",
     "metadata": {},
     "outputs": [
      {
       "output_type": "stream",
       "stream": "stdout",
       "text": [
        "Central optical depth\n",
        "  of 3933 line: 3.719\n",
        "  of 3968 line: 1.815\n"
       ]
      }
     ],
     "prompt_number": 21
    },
    {
     "cell_type": "markdown",
     "metadata": {},
     "source": [
      "This calcium abundance (an order of mag lower than solar) is a good choice because in the ISM, many calcium atoms freeze into grains and are thus not present in their atomic/ionic form."
     ]
    },
    {
     "cell_type": "markdown",
     "metadata": {},
     "source": [
      "### (b)\n",
      "Now **compute** the absorption line profile for each line. \n",
      "Use the appropriate *schematic* form of the Voigt function\n",
      "\n",
      "$$ H(a,u) \\simeq \\exp(-u^2) + \\frac{a}{\\pi^{1/2} u^2}. $$\n",
      "\n",
      "(Assume that the only natural broadening is due to the resonance line decay to ground and no other transition.)\n",
      "**Plot** the profiles relative to a background continuum of unity, and with an ordinate of $\\Delta$\u00c5 relative to line center.\n",
      "**Compute** the absorption equivalent widths for each line.\n",
      "**Compare** the ratio of equivalent widths of the two resonance lines and comment on the result.\n",
      "Note: you will have to exercise some care in calculating the profile to get an accurate result."
     ]
    },
    {
     "cell_type": "markdown",
     "metadata": {},
     "source": [
      "The wavelength-dependent optical depth looks like this:\n",
      "\n",
      "$$ \\tau_\\lambda = \\tau_o \\cdot H(a,u) $$\n",
      "\n",
      "with the intensity looking like:\n",
      "\n",
      "$$ I_\\lambda = I_{\\lambda,0} e^{-\\tau_\\lambda} $$"
     ]
    },
    {
     "cell_type": "code",
     "collapsed": false,
     "input": [
      "# Here is a group of helper functions to get our line calculations working.\n",
      "\n",
      "def doppler_width_for_velocity(velocity, central_wavelength):\n",
      "\n",
      "    lambda_o = u.Quantity(central_wavelength)\n",
      "    v = u.Quantity(velocity, u.km/u.s)\n",
      "    nu_o = c.c/lambda_o\n",
      "    Delta_nu_D = (v/c.c * nu_o).to(u.GHz)    \n",
      "\n",
      "    return Delta_nu_D\n",
      "\n",
      "def u_function(frequency, central_frequency, doppler_width):\n",
      "    \"\"\"\n",
      "    u is a parameterized form of frequency that is used in the Voigt function.\n",
      "\n",
      "    \"\"\"\n",
      "\n",
      "    nu = u.Quantity(frequency, u.Hz)\n",
      "    nu_0 = u.Quantity(central_frequency, u.Hz)\n",
      "    delta_nu = u.Quantity(doppler_width, u.Hz)\n",
      "\n",
      "    return (nu - nu_0) / delta_nu\n",
      "\n",
      "def damping_parameter_a(Gamma, doppler_width):\n",
      "    \"\"\" Calculates the damping parameter `a` \"\"\"\n",
      "    \n",
      "    G = u.Quantity(Gamma, u.s**-1)\n",
      "    Delta_nu_D = u.Quantity(doppler_width, u.Hz)\n",
      "    \n",
      "    return (G / (4*np.pi*Delta_nu_D)).decompose()\n",
      "\n",
      "def voigt_gaussian_term(u):\n",
      "    return np.exp(-u**2)\n",
      "\n",
      "def voigt_nongaussian_term(damping_parameter, u):\n",
      "    a = damping_parameter\n",
      "    return a / (np.pi**(1/2) * u**2)\n",
      "\n",
      "def piecewise_voigt(damping_parameter, u, transition_u=2):\n",
      "    a = damping_parameter\n",
      "\n",
      "    voigt_output = voigt_gaussian_term(u)\n",
      "    voigt_output[np.abs(u) >= transition_u] += voigt_nongaussian_term(a, u)[np.abs(u) >= transition_u]\n",
      "\n",
      "    return voigt_output\n"
     ],
     "language": "python",
     "metadata": {},
     "outputs": [],
     "prompt_number": 45
    },
    {
     "cell_type": "code",
     "collapsed": false,
     "input": [],
     "language": "python",
     "metadata": {},
     "outputs": [],
     "prompt_number": 90
    },
    {
     "cell_type": "code",
     "collapsed": false,
     "input": [
      "import matplotlib.pyplot as plt\n",
      "\n",
      "u_array = np.linspace(-4,4,100)\n",
      "\n",
      "doppler_width_3933 = doppler_width_for_velocity(turbulent_velocity, lambda_CaII_3933)\n",
      "a_3933 = damping_parameter_a(A_CaII_3933, doppler_width_3933)\n",
      "\n",
      "voigt_3933 = piecewise_voigt(a_3933, u_array, transition_u=1.5)\n",
      "\n",
      "intensity_3933 = np.exp(-tau_o_3933 * voigt_3933)\n",
      "\n",
      "fig1 = plt.figure()\n",
      "\n",
      "plt.plot(u_array, intensity_3933)\n",
      "plt.xlabel(\"u\")\n",
      "plt.ylabel(\"Intensity\")\n",
      "plt.title(r\"Line profile of 3933$\\lambda$\")\n",
      "\n",
      "doppler_width_3968 = doppler_width_for_velocity(turbulent_velocity, lambda_CaII_3968)\n",
      "\n",
      "a_3968 = damping_parameter_a(A_CaII_3968, doppler_width_3968)\n",
      "\n",
      "#voigt_3968 = voigt_gaussian_term(u_array)\n",
      "voigt_3968 = piecewise_voigt(a_3968, u_array, transition_u=1.5)\n",
      "#voigt_3968[np.abs(u_array) >= 1.5] += voigt_nongaussian_term(a_3968, u_array)[np.abs(u_array) >= 1.5]\n",
      "\n",
      "intensity_3968 = np.exp(-tau_o_3968 * voigt_3968)\n",
      "\n",
      "fig2 = plt.figure()\n",
      "\n",
      "plt.plot(u_array, intensity_3968)\n",
      "plt.xlabel(\"u\")\n",
      "plt.ylabel(\"Intensity\")\n",
      "plt.title(r\"Line profile of 3968$\\lambda$\")"
     ],
     "language": "python",
     "metadata": {},
     "outputs": [
      {
       "metadata": {},
       "output_type": "pyout",
       "prompt_number": 63,
       "text": [
        "<matplotlib.text.Text at 0x108bbf910>"
       ]
      },
      {
       "metadata": {},
       "output_type": "display_data",
       "png": "[encoded data removed]",
       "text": [
        "<matplotlib.figure.Figure at 0x1087b54d0>"
       ]
      },
      {
       "metadata": {},
       "output_type": "display_data",
       "png": "[encoded data removed]",
       "text": [
        "<matplotlib.figure.Figure at 0x108b8d590>"
       ]
      }
     ],
     "prompt_number": 63
    },
    {
     "cell_type": "markdown",
     "metadata": {},
     "source": [
      "Equivalent widths are calculated like this, when the turbulent velocity dominates over the thermal motions:\n",
      "\n",
      "$$ W_\\lambda = \\frac{\\lambda_0 v_{turb}}{c} \\int 1 - e^{-\\tau_\\lambda} du $$"
     ]
    },
    {
     "cell_type": "code",
     "collapsed": false,
     "input": [
      "# equivalent widths\n",
      "\n",
      "from scipy.integrate import trapz\n",
      "\n",
      "def equivalent_width(u_array, intensity_array, central_wavelength, doppler_velocity):\n",
      "    \n",
      "    lambda_0 = u.Quantity(central_wavelength, u.Angstrom)\n",
      "    v = u.Quantity(doppler_velocity)\n",
      "    \n",
      "    first_term = lambda_0 * v / c.c\n",
      "    second_term = trapz(1-intensity_array, u_array)\n",
      "    \n",
      "    W = first_term * second_term\n",
      "    \n",
      "    if intensity_array[0] < 0.9:\n",
      "        print \"Warning: you should use a bigger (more comprehensive) `u_array` to catch all the absorption!\"\n",
      "    \n",
      "    return W.to(u.Angstrom)\n",
      "\n",
      "print equivalent_width(u_array, intensity_3933, lambda_CaII_3933, turbulent_velocity)\n",
      "print equivalent_width(u_array, intensity_3968, lambda_CaII_3968, turbulent_velocity)"
     ],
     "language": "python",
     "metadata": {},
     "outputs": [
      {
       "output_type": "stream",
       "stream": "stdout",
       "text": [
        "0.338060983554 Angstrom\n",
        "0.247994332248 Angstrom\n"
       ]
      }
     ],
     "prompt_number": 95
    },
    {
     "cell_type": "markdown",
     "metadata": {},
     "source": [
      "### (c)\n",
      "Next, **compute** the line center optical depth and absorption line profile for Ly$\\alpha$, assuming that all of the H is neutral. \n",
      "(See Note in part b.)\n",
      "Upon what part of the curve of growth does this line lie?\n",
      "Does it make it easy or difficult to use an observation of Ly$\\alpha$ to get an H column density?\n",
      "Why?"
     ]
    },
    {
     "cell_type": "code",
     "collapsed": false,
     "input": [
      "u_array_bigger = np.linspace(-150,150, 1000)\n",
      "\n",
      "# hydrogen parameters\n",
      "lambda_Lya = 1215.6701 * u.Angstrom\n",
      "A_Lya = 4.6986e+08 * u.s**-1\n",
      "f_Lya = 4.1641e-01 * u.s**-1\n",
      "\n",
      "tau_o_Lya = line_center_optical_depth(N_H, f_Lya, turbulent_velocity, lambda_Lya)\n",
      "\n",
      "print tau_o_Lya\n",
      "\n",
      "doppler_width_Lya = doppler_width_for_velocity(turbulent_velocity, lambda_Lya)\n",
      "a_Lya = damping_parameter_a(A_Lya, doppler_width_Lya)\n",
      "\n",
      "voigt_Lya = piecewise_voigt(a_Lya, u_array_bigger)\n",
      "\n",
      "intensity_Lya = np.exp(-tau_o_Lya * voigt_Lya)\n",
      "\n",
      "fig3 = plt.figure()\n",
      "\n",
      "plt.plot(u_array_bigger, intensity_Lya)\n",
      "plt.xlabel(\"u\")\n",
      "plt.ylabel(\"Intensity\")\n",
      "plt.title(r\"Line profile of Ly$\\alpha$\")\n"
     ],
     "language": "python",
     "metadata": {},
     "outputs": [
      {
       "output_type": "stream",
       "stream": "stdout",
       "text": [
        "3508364.21065\n"
       ]
      },
      {
       "metadata": {},
       "output_type": "pyout",
       "prompt_number": 77,
       "text": [
        "<matplotlib.text.Text at 0x10aca06d0>"
       ]
      },
      {
       "metadata": {},
       "output_type": "display_data",
       "png": "[encoded data removed]",
       "text": [
        "<matplotlib.figure.Figure at 0x10812e550>"
       ]
      }
     ],
     "prompt_number": 77
    },
    {
     "cell_type": "markdown",
     "metadata": {},
     "source": [
      "This is firmly, firmly in the \"square root\" part of the curve of growth. This makes it relatively easy to use the Ly$\\alpha$ spectrum to get a column density, since (assuming you have an adequately large spectral bandpass to pick up the hugely wide Lyman line) the equivalent width *does* depend on column density, with square-root dependence."
     ]
    },
    {
     "cell_type": "markdown",
     "metadata": {},
     "source": [
      "### (d)\n",
      "Finally, **compute** the line center optical depth of the H I 21 cm line over this same region assuming the same broadening velocity and an excitation (spin) temperature of 100 K.\n",
      "Would you be able to use the 21 cm line to measure the column density as well as using Ly$\\alpha$ observations?"
     ]
    },
    {
     "cell_type": "code",
     "collapsed": false,
     "input": [],
     "language": "python",
     "metadata": {},
     "outputs": []
    },
    {
     "cell_type": "markdown",
     "metadata": {},
     "source": [
      "## 3.\n",
      "Consider a region of the diffuse local ISM."
     ]
    },
    {
     "cell_type": "markdown",
     "metadata": {},
     "source": [
      "### (a)\n",
      "Assume that the electrons arise entirely from ionization of hydrogen by a combination of soft X-rays and cosmic rays at a rate $2\\times 10^{-17}\\textrm{s}^{-1}$. \n",
      "Use the *low-temperature* hydrogen recombination rate $\\alpha \\sim 2.2 \\times 10^{-10}~T(\\textrm{K})^{-0.725}\\textrm{cm}^3\\textrm{s}^{-1}$ to **calculate** the electron density $n_e$ as a function of neutral hydrogen density $n_H$ and $T$."
     ]
    },
    {
     "cell_type": "code",
     "collapsed": false,
     "input": [],
     "language": "python",
     "metadata": {},
     "outputs": []
    },
    {
     "cell_type": "markdown",
     "metadata": {},
     "source": [
      "### (b)\n",
      "Using the result from **(a)**, **compute and plot** heating and cooling rates for the following processes as a function of hydrogen density $n_H$ for a pressure $P_H/k = 3\\times 10^3\\textrm{cm}^3 \\textrm{K}$ (assume most of the hydrogen is neutral):"
     ]
    },
    {
     "cell_type": "markdown",
     "metadata": {},
     "source": [
      "#### (i)\n",
      "**Photoelectric heating from grains**, at a rate\n",
      "$$ 4 \\times 10^{-26} \\left( \\frac{n_H}{\\textrm{cm^{-3}}} \\right)^{0.25} \\textrm{erg~cm}^{-3}\\textrm{s}^{-1}, $$\n",
      "where the fractional power of hydrogen density accounts approximately for the effects of grain charging."
     ]
    },
    {
     "cell_type": "code",
     "collapsed": false,
     "input": [],
     "language": "python",
     "metadata": {},
     "outputs": []
    },
    {
     "cell_type": "markdown",
     "metadata": {},
     "source": [
      "#### (ii)\n",
      "**Cooling by C II due to hydrogen** impact, at a rate\n",
      "$$ 3.15 \\times 10^{-27}\\exp(-0.92/T_2)n_H^2 \\textrm{erg~cm}^3\\textrm{s}^{-1},$$\n",
      "where $T_2 = T/100 \\textrm{ K}$."
     ]
    },
    {
     "cell_type": "code",
     "collapsed": false,
     "input": [],
     "language": "python",
     "metadata": {},
     "outputs": []
    },
    {
     "cell_type": "markdown",
     "metadata": {},
     "source": [
      "#### (iii)\n",
      "**Cooling by C II due to electron impact**, at a rate\n",
      "\n",
      "$$ 1.6\\times 10^{-24} T_2^{-0.25} \\exp(-0.92/T_2)n_e n_H \\textrm{erg~cm}^3\\textrm{s}^{-1}.$$"
     ]
    },
    {
     "cell_type": "code",
     "collapsed": false,
     "input": [],
     "language": "python",
     "metadata": {},
     "outputs": []
    },
    {
     "cell_type": "markdown",
     "metadata": {},
     "source": [
      "#### (iv)\n",
      "**Cooling by Ly$\\alpha$ collisional electronic excitation**, at a rate\n",
      "$$ 10^{-16} T(K)^{1/2} \\exp(-1.18 \\times 10^5/T(K)) n_e n_H \\textrm{erg~cm}^3\\textrm{s}^{-1}.$$"
     ]
    },
    {
     "cell_type": "code",
     "collapsed": false,
     "input": [],
     "language": "python",
     "metadata": {},
     "outputs": []
    },
    {
     "cell_type": "markdown",
     "metadata": {},
     "source": [
      "### (c)\n",
      "From the results of **(b)**, **estimate the temperature(s)** in thermal balance and **comment** upon thermal stability at these temperatures for constant pressure."
     ]
    },
    {
     "cell_type": "code",
     "collapsed": false,
     "input": [
      "\n"
     ],
     "language": "python",
     "metadata": {},
     "outputs": [],
     "prompt_number": 0
    },
    {
     "cell_type": "markdown",
     "metadata": {},
     "source": [
      "### (d)\n",
      "**Estimate** and **comment upon** the cooling timescales needed to establish thermal balance at the appropriate temperatures for this pressure.\n"
     ]
    },
    {
     "cell_type": "code",
     "collapsed": false,
     "input": [],
     "language": "python",
     "metadata": {},
     "outputs": []
    }
   ],
   "metadata": {}
  }
 ]
}