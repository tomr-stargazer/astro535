{
 "metadata": {
  "name": "",
  "signature": "sha256:66b23f07bdd7e6f6db0a55771ac3ebf5efdde59ee10b493453f787149f2a9eab"
 },
 "nbformat": 3,
 "nbformat_minor": 0,
 "worksheets": [
  {
   "cells": [
    {
     "cell_type": "markdown",
     "metadata": {},
     "source": [
      "Tom Rice\n",
      "# ISM HW 4\n",
      "Astro 535 \n",
      "3 April 2015"
     ]
    },
    {
     "cell_type": "code",
     "collapsed": false,
     "input": [
      "from __future__ import division\n",
      "\n",
      "import numpy as np\n",
      "import astropy.units as u\n",
      "import astropy.constants as c"
     ],
     "language": "python",
     "metadata": {},
     "outputs": [],
     "prompt_number": 2
    },
    {
     "cell_type": "markdown",
     "metadata": {},
     "source": [
      "## 3. \n",
      "### a) \n",
      "The $J=1-0$ line of $^{12}\\rm{C}^{16}\\rm{O}$ has a rest frequency of $\\nu=115.27$ GHz. What are the frequencies of the corresponding transitions for $^{13}\\rm{C}^{16}\\rm{O}$ and $^{12}\\rm{C}^{18}\\rm{O}$?"
     ]
    },
    {
     "cell_type": "markdown",
     "metadata": {},
     "source": [
      "The rotational transitions of the CO molecule can be modelled very well by assuming the molecule is a rigid molecular rotor.\n",
      "(NB: HyperPhysics has a [great page on rigid rotors](http://hyperphysics.phy-astr.gsu.edu/hbase/molecule/rotqm.html#c1).)\n",
      "A rigid rotor has moment of inertia\n",
      "$$I = \\mu R^2$$ \n",
      "with $\\mu$ the reduced mass of the atoms\n",
      "$$ \\mu = \\frac{m_1 m_2}{m_1 + m_2} $$\n",
      "and $R$ the separation between the atoms.\n",
      "\n",
      "The corresponding energy of a given rotational energy state is \n",
      "\n",
      "$$ E_J = \\frac{\\hbar^2}{2I} J (J+1) $$\n",
      "\n",
      "with $J$ the quantum number of rotation; hence here,\n",
      "\n",
      "$$ E_{J=1}(^{12}\\rm{C}^{16}\\rm{O}) = \\frac{\\hbar^2}{2I(^{12}\\rm{C}^{16}\\rm{O})}\\times 2 = h \\cdot 115.27~\\rm{GHz}$$\n",
      "\n",
      "Assuming that the separation $R$ is set primarily by the electronic properties of the atoms, and not their nuclear weights, we can use the $^{12}\\rm{C}^{16}\\rm{O}$ frequency to scale the other molecules' frequencies, taking into account the different reduced masses.\n",
      "\n",
      "We can solve for $R$ explicitly given the above information, and then use it to scale the energies of the CO isotopologue transitions.\n",
      "\n",
      "$$E_{J=1} = h\\nu = 2\\cdot \\frac{\\hbar^2}{2I} = 2\\cdot \\frac{\\hbar^2}{2\\mu R^2} $$\n",
      "\n",
      "$$ => R = \\left(\\frac{h\\nu}{\\hbar^2} \\mu \\right)^{-1/2} $$"
     ]
    },
    {
     "cell_type": "code",
     "collapsed": false,
     "input": [
      "nu_12CO = 115.27 * u.GHz\n",
      "\n",
      "def reduced_mass(mass1, mass2): \n",
      "    mu = (mass1*mass2) / (mass1+mass2)\n",
      "    return mu.to(u.u)\n",
      "\n",
      "mu_12CO = reduced_mass(12*u.u, 16*u.u)\n",
      "# print mu_12CO\n",
      "\n",
      "R_CO = (c.h * mu_12CO/c.hbar**2 * nu_12CO)**(-1/2)\n",
      "\n",
      "print \"The bond length for 12C16O should be: \"\n",
      "R_CO.to(u.AA)"
     ],
     "language": "python",
     "metadata": {},
     "outputs": [
      {
       "output_type": "stream",
       "stream": "stdout",
       "text": [
        "The bond length for 12C16O should be: \n"
       ]
      },
      {
       "latex": [
        "$1.130821 \\; \\mathrm{\\overset{\\circ}{A}}$"
       ],
       "metadata": {},
       "output_type": "pyout",
       "prompt_number": 35,
       "text": [
        "<Quantity 1.1308210424563776 Angstrom>"
       ]
      }
     ],
     "prompt_number": 35
    },
    {
     "cell_type": "markdown",
     "metadata": {},
     "source": [
      "[NIST](http://cccbdb.nist.gov/exp2.asp?casno=630080) gives the CO bond length to be 1.128 \u00c5, so this is a great consistency check.\n",
      "\n",
      "Now we'll use this to calculate the transition frequencies of the isotopologues:"
     ]
    },
    {
     "cell_type": "code",
     "collapsed": false,
     "input": [
      "def CO_J10_transition_energy(m1, m2, J=1):\n",
      "    \"\"\" Gives the J=1-0 transition energy given 2 input masses \"\"\"\n",
      "    \n",
      "    mu = reduced_mass(m1, m2)\n",
      "    I = mu * R_CO**2\n",
      "    E_J = c.hbar**2/(2*I) * J*(J+1)\n",
      "    \n",
      "    return E_J\n",
      "\n",
      "nu_13CO = CO_J10_transition_energy(13*u.u, 16*u.u) / c.h\n",
      "nu_C18O = CO_J10_transition_energy(12*u.u, 18*u.u) / c.h\n",
      "\n",
      "print \"13C16O: {0:.3f}\".format(nu_13CO)\n",
      "print \"12C18O: {0:.3f}\".format(nu_C18O)"
     ],
     "language": "python",
     "metadata": {},
     "outputs": [
      {
       "output_type": "stream",
       "stream": "stdout",
       "text": [
        "13C16O: 110.203 GHz\n",
        "12C18O: 109.781 GHz\n"
       ]
      }
     ],
     "prompt_number": 38
    },
    {
     "cell_type": "markdown",
     "metadata": {},
     "source": [
      "For reference, [Splatalogue](http://www.cv.nrao.edu/php/splat/) gives 110.20135 and 109.78218 GHz, respectively, so these are really good.\n",
      "\n",
      "For fun we can calculate all of the stable CO isotopologues:"
     ]
    },
    {
     "cell_type": "code",
     "collapsed": false,
     "input": [
      "for c_mass in [12, 13]:\n",
      "    for o_mass in [16, 17, 18]:\n",
      "        \n",
      "        nu = CO_J10_transition_energy(c_mass*u.u, o_mass*u.u)/c.h\n",
      "        print \"{0}C{1}O: {2:.3f}\".format(c_mass, o_mass, nu)\n",
      "    print \"\""
     ],
     "language": "python",
     "metadata": {},
     "outputs": [
      {
       "output_type": "stream",
       "stream": "stdout",
       "text": [
        "12C16O: 115.270 GHz\n",
        "12C17O: 112.364 GHz\n",
        "12C18O: 109.781 GHz\n",
        "\n",
        "13C16O: 110.203 GHz\n",
        "13C17O: 107.297 GHz\n",
        "13C18O: 104.714 GHz\n",
        "\n"
       ]
      }
     ],
     "prompt_number": 39
    },
    {
     "cell_type": "markdown",
     "metadata": {},
     "source": [
      "### b)\n",
      "The rotational levels of CO have energies given approximately by\n",
      "\n",
      "$$ E_J = h [B J(J+1) - DJ^2(J+1)^2 + ...] $$\n",
      "\n",
      "where $B = 57.635~\\rm{GHz}$ and $D=0.1835~\\rm{MHz}$.\n",
      "\n",
      "Compute the rotational levels of the $J=1-0$, $2-1$, $3-2$, and $4-3$ transitions. Comment on the relative emission expected in these transitions for \n",
      "\n",
      "#### i)\n",
      "a 10 K cloud and a\n",
      "#### ii)\n",
      "100 K region."
     ]
    },
    {
     "cell_type": "code",
     "collapsed": false,
     "input": [
      "B = 57.635 * u.GHz\n",
      "D = 0.1835 * u.MHz\n",
      "\n",
      "def E_J(J=1):\n",
      "    \n",
      "    B_term = B*J*(J+1)\n",
      "    D_term = D*J**2*(J+1)**2\n",
      "    \n",
      "    return (c.h * (B_term - D_term)).to(u.J)\n",
      "\n",
      "def transition_frequency(J_u, J_l):\n",
      "    \n",
      "    return ((E_J(J_u) - E_J(J_l))/c.h).to(u.GHz)\n",
      "\n",
      "print \"J=1-0: {0:.3f}\".format(transition_frequency(1,0))\n",
      "print \"J=2-1: {0:.3f}\".format(transition_frequency(2,1))\n",
      "print \"J=3-2: {0:.3f}\".format(transition_frequency(3,2))\n",
      "print \"J=4-3: {0:.3f}\".format(transition_frequency(4,3))"
     ],
     "language": "python",
     "metadata": {},
     "outputs": [
      {
       "output_type": "stream",
       "stream": "stdout",
       "text": [
        "J=1-0: 115.269 GHz\n",
        "J=2-1: 230.534 GHz\n",
        "J=3-2: 345.790 GHz\n",
        "J=4-3: 461.033 GHz\n"
       ]
      }
     ],
     "prompt_number": 51
    },
    {
     "cell_type": "markdown",
     "metadata": {},
     "source": [
      "The excitation temperature needed for the various transitions to be well populated:\n"
     ]
    },
    {
     "cell_type": "code",
     "collapsed": false,
     "input": [
      "print \"J=1: {0:.2f}\".format((E_J(1)/c.k_B).to(u.K))\n",
      "print \"J=2: {0:.2f}\".format((E_J(2)/c.k_B).to(u.K))\n",
      "print \"J=3: {0:.2f}\".format((E_J(3)/c.k_B).to(u.K))\n",
      "print \"J=4: {0:.2f}\".format((E_J(4)/c.k_B).to(u.K))"
     ],
     "language": "python",
     "metadata": {},
     "outputs": [
      {
       "output_type": "stream",
       "stream": "stdout",
       "text": [
        "J=1: 5.53 K\n",
        "J=2: 16.60 K\n",
        "J=3: 33.19 K\n",
        "J=4: 55.32 K\n"
       ]
      }
     ],
     "prompt_number": 52
    },
    {
     "cell_type": "markdown",
     "metadata": {},
     "source": [
      "so only the $J=1-0$ and $J=2-1$ transitions should be well-populated at 10 K (with the $1-0$ transition brightest), but all of them should be easily visible at 100 K (with perhaps the $4-3$ transition brightest here).\n",
      "\n",
      "[RADEX](http://www.sron.rug.nl/~vdtak/radex/radex.php) roughly agrees with these guesses (top: 10 K output, bottom: 100 K output, see TR column):\n",
      "\n",
      "```\n",
      "Molecule: \tCO\n",
      "Minimum frequency: \t50 \tGHz\n",
      "Maximum frequency: \t500 \tGHz\n",
      "Kinetic temperature: \t10 \tK\n",
      "Background temperature: \t2.73 \tK\n",
      "Number density: \t1e4 \tcm-3\n",
      "Column density: \t1e14 \tcm-2\n",
      "Line width: \t1.0 \tkm s-1\n",
      "\n",
      "Transition \tFrequency \tTex \ttau \t    TR\n",
      "\t        (GHz) \t    (K) \t\t        (K)\n",
      "1   --   0\t115.2712\t9.839\t1.781E-02\t1.146E-01\n",
      "2   --   1\t230.5380\t7.416\t3.655E-02\t1.082E-01\n",
      "3   --   2\t345.7960\t6.764\t1.454E-02\t2.198E-02\n",
      "4   --   3\t461.0408\t6.795\t1.750E-03\t1.538E-03\n",
      "\n",
      "--------------------------------------------------\n",
      "\n",
      "Molecule: \tCO\n",
      "Minimum frequency: \t50 \tGHz\n",
      "Maximum frequency: \t500 \tGHz\n",
      "Kinetic temperature: \t100 \tK\n",
      "Background temperature: \t2.73 \tK\n",
      "Number density: \t1e4 \tcm-3\n",
      "Column density: \t1e14 \tcm-2\n",
      "Line width: \t1.0 \tkm s-1\n",
      "\n",
      "Transition \tFrequency \tTex \ttau \t    TR\n",
      "\t        (GHz) \t    (K) \t\t        (K)\n",
      "1   --   0\t115.2712\t-85.690\t-6.007E-04\t5.367E-02\n",
      "2   --   1\t230.5380\t89.629\t2.230E-03\t1.871E-01\n",
      "3   --   2\t345.7960\t29.966\t1.082E-02\t2.410E-01\n",
      "4   --   3\t461.0408\t24.138\t1.168E-02\t1.711E-01\n",
      "```\n"
     ]
    },
    {
     "cell_type": "markdown",
     "metadata": {},
     "source": [
      "## 4.\n",
      "Consider a simple equilibrium model of $H_2$, in which formation on grains is balanced by photodissociation in the Lyman-Werner bands assuming self-shielding on the damping part of the curve of growth.\n",
      "\n",
      "Equating the volumetric formation rate with the photodestruction rate:\n",
      "\n",
      "$$ 1.6 \\times 10^{-17} n_H n_{tot} T^{1/2}_{100} = 6 \\times 10^{-11} n(H_2) \\left( \\frac{2\\times 10^{11} \\rm{cm}^{-2}}{N(H_2)} \\right)^{1/2} $$\n",
      "\n",
      "we can write $n_{tot} = [n_H + 2n(H_2)]$ and then solve for $2n(H_2)/n_{tot}$ to get our expression for $x$.\n",
      "\n",
      "$$ \\frac{x}2 = \\frac{n(H_2)}{n_{tot}} = \\frac{ 1.6 \\times 10^{-17} n_H T^{1/2}_{100} } {6 \\times 10^{-11} \\left( \\frac{2\\times 10^{11} \\rm{cm}^{-2}}{N(H_2)} \\right)^{1/2} } $$"
     ]
    },
    {
     "cell_type": "code",
     "collapsed": false,
     "input": [
      "numerical_factor = 2 * 1.6e-17 / 6e-11\n",
      "print numerical_factor\n",
      "\n"
     ],
     "language": "python",
     "metadata": {},
     "outputs": [
      {
       "output_type": "stream",
       "stream": "stdout",
       "text": [
        "5.33333333333e-07\n"
       ]
      }
     ],
     "prompt_number": 53
    },
    {
     "cell_type": "markdown",
     "metadata": {},
     "source": [
      "$$ x = 5.33 \\times 10^{-7} n_H T^{1/2}_{100} \\left( \\frac{N(H_2)}{2\\times 10^{11} \\rm{cm}^{-2}} \\right)^{1/2} $$"
     ]
    },
    {
     "cell_type": "markdown",
     "metadata": {},
     "source": [
      "### b)\n",
      "Assume a pressure $n_H T = 3000~\\rm{cm}^{-3}~\\rm{K}$ and $T=50$ K. Calculate the column density $N(H)$ required to achieve $x=0.1$. \n",
      "Assume $n(H) >> n(H_2)$ to simplify the calculation, and use the fact that $n(H)$ is assumed constant with distance $z$, and that $n(H_2) = dN(H_2)/dz$. Check your notes to see if your result seems reasonable."
     ]
    },
    {
     "cell_type": "markdown",
     "metadata": {},
     "source": [
      "First, we should solve for $N(H_2)$ here, since we have enough information to know what $N(H_2)$ value gets us $x=0.1$. Then, we will take $N(H) \\approx \\frac{1}{x} N(H_2) = 10 \\cdot N(H_2)$, using the approximation that $n(H) >> n(H_2)$."
     ]
    },
    {
     "cell_type": "markdown",
     "metadata": {},
     "source": [
      "$$ N(H_2) = \\left( \\frac{x}{5.33 \\times 10^{-7} n_H T^{1/2}_{100}} \\right)^2 2\\times 10^{11} \\rm{cm}^{-2} $$"
     ]
    },
    {
     "cell_type": "code",
     "collapsed": false,
     "input": [
      "x = 0.1\n",
      "T = 50 * u.K\n",
      "n_H = 3000 * u.cm**-3 * u.K / T\n",
      "\n",
      "N_H2 = (x/(5.33e-7 * (n_H/u.cm**-3) * (T/(100*u.K))**(1/2)))**2 * 2e11 * u.cm**-2 \n",
      "\n",
      "print \"To get x=0.1:\"\n",
      "print \"Required N(H_2): {0:.2e}\".format( N_H2.to(u.cm**-2))\n",
      "\n",
      "N_H = 1/x * N_H2\n",
      "\n",
      "print \"Required N(H):   {0:.2e}\".format( N_H)"
     ],
     "language": "python",
     "metadata": {},
     "outputs": [
      {
       "output_type": "stream",
       "stream": "stdout",
       "text": [
        "To get x=0.1:\n",
        "Required N(H_2): 3.91e+18 1 / cm2\n",
        "Required N(H):   3.91e+19 1 / cm2\n"
       ]
      }
     ],
     "prompt_number": 63
    },
    {
     "cell_type": "markdown",
     "metadata": {},
     "source": [
      "Thus we need $N(H) = 3.91 \\times 10^{19} \\rm{cm}^{-2}$ to have $x=0.1$.\n",
      "\n",
      "My notes have a $\\tau=1$ for $N(H_2)=10^{17} \\rm{cm}^{-2}$, which is about an order of magnitude lower than what I find here. BUT - that's assuming a higher mean density. So I think that my result here is reasonable."
     ]
    }
   ],
   "metadata": {}
  }
 ]
}