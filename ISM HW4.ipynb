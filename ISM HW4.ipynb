{
 "metadata": {
  "name": "",
  "signature": "sha256:54286ce6504a9934d546b2a5d5589c7c5b8dfd23ec11310659943c8eae7fadab"
 },
 "nbformat": 3,
 "nbformat_minor": 0,
 "worksheets": [
  {
   "cells": [
    {
     "cell_type": "markdown",
     "metadata": {},
     "source": [
      "Tom Rice\n",
      "# ISM HW 4\n",
      "Astro 535 \n",
      "3 April 2015"
     ]
    },
    {
     "cell_type": "code",
     "collapsed": false,
     "input": [
      "from __future__ import division\n",
      "\n",
      "import numpy as np\n",
      "import astropy.units as u\n",
      "import astropy.constants as c"
     ],
     "language": "python",
     "metadata": {},
     "outputs": [],
     "prompt_number": 2
    },
    {
     "cell_type": "markdown",
     "metadata": {},
     "source": [
      "## 3. \n",
      "### a) \n",
      "The $J=1-0$ line of $^{12}\\rm{C}^{16}\\rm{O}$ has a rest frequency of $\\nu=115.27$ GHz. What are the frequencies of the corresponding transitions for $^{13}\\rm{C}^{16}\\rm{O}$ and $^{12}\\rm{C}^{18}\\rm{O}$?"
     ]
    },
    {
     "cell_type": "markdown",
     "metadata": {},
     "source": [
      "The rotational transitions of the CO molecule can be modelled very well by assuming the molecule is a rigid molecular rotor.\n",
      "A rigid rotor has moment of inertia\n",
      "$$I = \\mu R^2$$ \n",
      "with $\\mu$ the reduced mass of the atoms\n",
      "$$ \\mu = \\frac{m_1 m_2}{m_1 + m_2} $$\n",
      "and $R$ the separation between the atoms.\n",
      "\n",
      "The corresponding energy of a given transition is \n",
      "\n",
      "$$ E_J = \\frac{\\hbar^2}{2I} J (J+1) $$\n",
      "\n",
      "hence here,\n",
      "\n",
      "$$ E_{J=1}(^{12}\\rm{C}^{16}\\rm{O}) = \\frac{\\hbar^2}{2I(^{12}\\rm{C}^{16}\\rm{O})}\\times 2 = h \\cdot 115.27~\\rm{GHz}$$\n",
      "\n",
      "Assuming that the separation $R$ is set primarily by the electronic properties of the atoms, and not their nuclear weights, we can use the $^{12}\\rm{C}^{16}\\rm{O}$ frequency to scale the other molecules' frequencies, taking into account the different reduced masses.\n",
      "\n",
      "We can solve for $R$ explicitly given the above information, and then use it to scale the energies of the CO isotopologue transitions.\n",
      "\n",
      "$$E_{J=1} = h\\nu = 2\\cdot \\frac{\\hbar^2}{2I} = 2\\cdot \\frac{\\hbar^2}{2\\mu R^2} $$\n",
      "\n",
      "$$ => R = \\left(\\frac{h\\nu}{\\hbar^2} \\mu \\right)^{-1/2} $$"
     ]
    },
    {
     "cell_type": "code",
     "collapsed": false,
     "input": [
      "nu_12CO = 115.27 * u.GHz\n",
      "\n",
      "def reduced_mass(mass1, mass2): \n",
      "    mu = (mass1*mass2) / (mass1+mass2)\n",
      "    return mu.to(u.u)\n",
      "\n",
      "mu_12CO = reduced_mass(12*u.u, 16*u.u)\n",
      "# print mu_12CO\n",
      "\n",
      "R_CO = (c.h * mu_12CO/c.hbar**2 * nu_12CO)**(-1/2)\n",
      "\n",
      "print \"The bond length for 12C16O should be: \"\n",
      "R_CO.to(u.AA)"
     ],
     "language": "python",
     "metadata": {},
     "outputs": [
      {
       "output_type": "stream",
       "stream": "stdout",
       "text": [
        "The bond length for 12C16O should be: \n"
       ]
      },
      {
       "latex": [
        "$1.130821 \\; \\mathrm{\\overset{\\circ}{A}}$"
       ],
       "metadata": {},
       "output_type": "pyout",
       "prompt_number": 35,
       "text": [
        "<Quantity 1.1308210424563776 Angstrom>"
       ]
      }
     ],
     "prompt_number": 35
    },
    {
     "cell_type": "markdown",
     "metadata": {},
     "source": [
      "NIST gives the CO bond length to be 1.128 \u00c5, so this is a great consistency check.\n",
      "\n",
      "Now we'll use this to calculate the transition frequencies of the isotopologues:"
     ]
    },
    {
     "cell_type": "code",
     "collapsed": false,
     "input": [
      "def CO_J10_transition_energy(m1, m2, J=1):\n",
      "    \"\"\" Gives the J=1-0 transition energy given 2 input masses \"\"\"\n",
      "    \n",
      "    mu = reduced_mass(m1, m2)\n",
      "    I = mu * R_CO**2\n",
      "    E_J = c.hbar**2/(2*I) * J*(J+1)\n",
      "    \n",
      "    return E_J\n",
      "\n",
      "nu_13CO = CO_J10_transition_energy(13*u.u, 16*u.u) / c.h\n",
      "nu_C18O = CO_J10_transition_energy(12*u.u, 18*u.u) / c.h\n",
      "\n",
      "print \"13C16O: {0:.3f}\".format(nu_13CO)\n",
      "print \"12C18O: {0:.3f}\".format(nu_C18O)"
     ],
     "language": "python",
     "metadata": {},
     "outputs": [
      {
       "output_type": "stream",
       "stream": "stdout",
       "text": [
        "13C16O: 110.203 GHz\n",
        "12C18O: 109.781 GHz\n"
       ]
      }
     ],
     "prompt_number": 38
    },
    {
     "cell_type": "markdown",
     "metadata": {},
     "source": [
      "For reference, Splatalogue gives 110.20135 and 109.78218 GHz, respectively, so these are really good.\n",
      "\n",
      "For fun we can calculate all of the stable CO isotopologues:"
     ]
    },
    {
     "cell_type": "code",
     "collapsed": false,
     "input": [
      "for c_mass in [12, 13]:\n",
      "    for o_mass in [16, 17, 18]:\n",
      "        \n",
      "        nu = CO_J10_transition_energy(c_mass*u.u, o_mass*u.u)/c.h\n",
      "        print \"{0}C{1}O: {2:.3f}\".format(c_mass, o_mass, nu)"
     ],
     "language": "python",
     "metadata": {},
     "outputs": [
      {
       "output_type": "stream",
       "stream": "stdout",
       "text": [
        "12C16O: 115.270 GHz\n",
        "12C17O: 112.364 GHz\n",
        "12C18O: 109.781 GHz\n",
        "13C16O: 110.203 GHz\n",
        "13C17O: 107.297 GHz\n",
        "13C18O: 104.714 GHz\n"
       ]
      }
     ],
     "prompt_number": 37
    },
    {
     "cell_type": "code",
     "collapsed": false,
     "input": [],
     "language": "python",
     "metadata": {},
     "outputs": []
    }
   ],
   "metadata": {}
  }
 ]
}